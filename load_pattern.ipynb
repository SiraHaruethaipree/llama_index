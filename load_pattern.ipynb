{
 "cells": [
  {
   "cell_type": "markdown",
   "metadata": {},
   "source": [
    "# Import library"
   ]
  },
  {
   "cell_type": "code",
   "execution_count": 78,
   "metadata": {},
   "outputs": [],
   "source": [
    "from llama_index import(\n",
    "    GPTVectorStoreIndex,\n",
    "    ServiceContext,\n",
    "    LLMPredictor,\n",
    "    PromptHelper,\n",
    "    Document,\n",
    "    VectorStoreIndex,\n",
    "    LangchainEmbedding,\n",
    "    StorageContext,\n",
    "    load_index_from_storage,\n",
    "    )\n",
    "\n",
    "\n",
    "from langchain import OpenAI\n",
    "from langchain.docstore.document import Document as LangchainDocument\n",
    "from llama_index.node_parser import SimpleNodeParser\n",
    "\n",
    "#scrap website\n",
    "from bs4 import BeautifulSoup\n",
    "import requests\n",
    "\n",
    "# upload model \n",
    "from langchain.llms import LlamaCpp\n",
    "from langchain.callbacks.manager import CallbackManager\n",
    "from llama_index.llms import LangChainLLM\n",
    "from langchain.callbacks.streaming_stdout import StreamingStdOutCallbackHandler\n",
    "from langchain.embeddings.huggingface import HuggingFaceEmbeddings\n"
   ]
  },
  {
   "cell_type": "markdown",
   "metadata": {},
   "source": [
    "# Scrap entire website "
   ]
  },
  {
   "cell_type": "markdown",
   "metadata": {},
   "source": [
    "All of function base on : https://www.youtube.com/watch?v=XJRoDEctAwA"
   ]
  },
  {
   "cell_type": "code",
   "execution_count": 13,
   "metadata": {},
   "outputs": [],
   "source": [
    "def scrape(site):\n",
    "    urls = []\n",
    "    \n",
    "    def scrape_helper(current_site):\n",
    "        nonlocal urls\n",
    "\n",
    "        r = requests.get(current_site)\n",
    "\n",
    "        s = BeautifulSoup(r.text, \"html.parser\")\n",
    "        #print(s.find_all(\"a\"))\n",
    "        for i in s.find_all(\"a\"):\n",
    "            if \"href\" in i.attrs:\n",
    "                href = i.attrs[\"href\"]\n",
    "\n",
    "                if href.startswith(\"/\") or href.startswith('#'):\n",
    "                    full_url = site + href\n",
    "\n",
    "                    if full_url not in urls:\n",
    "                        urls.append(full_url)\n",
    "                        scrape_helper(full_url)\n",
    "    scrape_helper(site)\n",
    "    return urls"
   ]
  },
  {
   "cell_type": "markdown",
   "metadata": {},
   "source": [
    "guide process : https://gpt-index.readthedocs.io/en/latest/end_to_end_tutorials/usage_pattern.html\n",
    "\n",
    "load local model integrate with langchain : https://gpt-index.readthedocs.io/en/latest/examples/llm/langchain.html,    https://python.langchain.com/docs/modules/model_io/models/llms/integrations/llamacpp\n",
    "\n",
    "exceed context window of 512 : https://github.com/hwchase17/langchain/issues/3751\n"
   ]
  },
  {
   "cell_type": "code",
   "execution_count": 86,
   "metadata": {},
   "outputs": [],
   "source": [
    "def load_llm(model_path):\n",
    "    callback_manager = CallbackManager([StreamingStdOutCallbackHandler()])\n",
    "    llm_langchain = LlamaCpp(\n",
    "    model_path= model_path, \n",
    "    callback_manager=callback_manager, \n",
    "    verbose=True, \n",
    "    n_ctx=2048) #define n-ctx for prevent exceed token error\n",
    "    llm = LangChainLLM(llm=llm_langchain)\n",
    "    return llm"
   ]
  },
  {
   "cell_type": "markdown",
   "metadata": {},
   "source": [
    "Crate index and asking question : https://colab.research.google.com/drive/16QMQePkONNlDpgiltOi7oRQgmB8dU5fl?usp=sharing#scrollTo=5be63ef4"
   ]
  },
  {
   "cell_type": "code",
   "execution_count": 87,
   "metadata": {},
   "outputs": [],
   "source": [
    "def load_document_to_gpt_vectorstore(url, model_path, model_emb_path):\n",
    "    from llama_index import download_loader \n",
    "\n",
    "    urls = scrape(url)\n",
    "    BeautifulSoupWebReader = download_loader(\"BeautifulSoupWebReader\")\n",
    "    loader = BeautifulSoupWebReader()\n",
    "    documents = loader.load_data(urls)\n",
    "    parser = SimpleNodeParser()\n",
    "\n",
    "    nodes = parser.get_nodes_from_documents(documents)\n",
    "\n",
    "    llm = load_llm(model_path)\n",
    "    llm_predictor = LLMPredictor(llm = llm)\n",
    "    embed_model = LangchainEmbedding(HuggingFaceEmbeddings(model_name=model_emb_path))\n",
    "\n",
    "\n",
    "    max_input_size = 4096\n",
    "    num_output = 512\n",
    "    max_chunk_overlap = 0.20\n",
    "    prompt_helper = PromptHelper(max_input_size, num_output, max_chunk_overlap)\n",
    "    service_context = ServiceContext.from_defaults(\n",
    "    llm_predictor=llm_predictor,\n",
    "    embed_model=embed_model,\n",
    "    prompt_helper=prompt_helper,\n",
    "    )\n",
    "\n",
    "    index = GPTVectorStoreIndex(nodes, service_context=service_context) \n",
    "    #index.save_to_disk(\"./gpt_index_docs_api_remotion_v2.json\") #cant use save_to_disk replace with storage_context\n",
    "    index.storage_context.persist(persist_dir=\"./llama_index_docs_api_v1\") # create json file for index\n",
    "    return index, service_context"
   ]
  },
  {
   "cell_type": "code",
   "execution_count": 88,
   "metadata": {},
   "outputs": [],
   "source": [
    "# def chat(query, index): #No need to use\n",
    "#     #index = VectorStoreIndex.load_from_disk(\"gpt_index_docs.json\")\n",
    "#     response = index.query(query)\n",
    "#     print(response)\n",
    "#     return response"
   ]
  },
  {
   "cell_type": "markdown",
   "metadata": {},
   "source": [
    "URL Doc :  https://anaconda.org/conda-forge/attrs\n",
    "\n",
    "model link : orca-mini-3b.ggmlv3.q4_0.bin (1.9GB) : https://gpt4all.io/index.html \n",
    "\n",
    "embedding model : https://huggingface.co/sentence-transformers/all-mpnet-base-v2"
   ]
  },
  {
   "cell_type": "code",
   "execution_count": 89,
   "metadata": {},
   "outputs": [
    {
     "name": "stderr",
     "output_type": "stream",
     "text": [
      "llama.cpp: loading model from orca-mini-3b.ggmlv3.q4_0.bin\n",
      "llama_model_load_internal: format     = ggjt v3 (latest)\n",
      "llama_model_load_internal: n_vocab    = 32000\n",
      "llama_model_load_internal: n_ctx      = 2048\n",
      "llama_model_load_internal: n_embd     = 3200\n",
      "llama_model_load_internal: n_mult     = 240\n",
      "llama_model_load_internal: n_head     = 32\n",
      "llama_model_load_internal: n_layer    = 26\n",
      "llama_model_load_internal: n_rot      = 100\n",
      "llama_model_load_internal: ftype      = 2 (mostly Q4_0)\n",
      "llama_model_load_internal: n_ff       = 8640\n",
      "llama_model_load_internal: model size = 3B\n",
      "llama_model_load_internal: ggml ctx size =    0.06 MB\n",
      "llama_model_load_internal: mem required  = 2862.72 MB (+  682.00 MB per state)\n",
      "AVX = 1 | AVX2 = 1 | AVX512 = 0 | AVX512_VBMI = 0 | AVX512_VNNI = 0 | FMA = 1 | NEON = 0 | ARM_FMA = 0 | F16C = 1 | FP16_VA = 0 | WASM_SIMD = 0 | BLAS = 0 | SSE3 = 1 | VSX = 0 | \n",
      "llama_new_context_with_model: kv self size  =  650.00 MB\n"
     ]
    }
   ],
   "source": [
    "url = \"https://anaconda.org/conda-forge/attrs\"\n",
    "model_path = \"orca-mini-3b.ggmlv3.q4_0.bin\"\n",
    "model_emb_path = \"sentence-transformers/all-mpnet-base-v2\"\n",
    "\n",
    "index, service_context = load_document_to_gpt_vectorstore(url= url, \n",
    "                                         model_path= model_path,\n",
    "                                         model_emb_path=model_emb_path)"
   ]
  },
  {
   "cell_type": "code",
   "execution_count": 90,
   "metadata": {},
   "outputs": [],
   "source": [
    "storage_context = StorageContext.from_defaults(persist_dir=\"./llama_index_docs_api_v1\")\n",
    "index = load_index_from_storage(storage_context, service_context=service_context)"
   ]
  },
  {
   "cell_type": "code",
   "execution_count": 91,
   "metadata": {},
   "outputs": [],
   "source": [
    "query_engine = index.as_query_engine(streaming=True, similarity_top_k=1, service_context=service_context)"
   ]
  },
  {
   "cell_type": "code",
   "execution_count": 92,
   "metadata": {},
   "outputs": [
    {
     "name": "stdout",
     "output_type": "stream",
     "text": [
      "\n",
      "I assume that you are referring to the \"attrs\" package in Python. From the context information alone, it seems that you are asking for a definition of what \"attrs\" means in Python. Therefore, my answer would be: \"attrs\" is the Python package that provides functionality related to classes and attributes, including class decorators and defining attributes declaratively."
     ]
    },
    {
     "name": "stderr",
     "output_type": "stream",
     "text": [
      "\n",
      "llama_print_timings:        load time =   816.18 ms\n",
      "llama_print_timings:      sample time =    49.96 ms /    78 runs   (    0.64 ms per token,  1561.28 tokens per second)\n",
      "llama_print_timings: prompt eval time = 118889.23 ms /  1162 tokens (  102.31 ms per token,     9.77 tokens per second)\n",
      "llama_print_timings:        eval time = 12845.97 ms /    77 runs   (  166.83 ms per token,     5.99 tokens per second)\n",
      "llama_print_timings:       total time = 140033.79 ms\n"
     ]
    }
   ],
   "source": [
    "response_stream = query_engine.query(\"What is attrs in python\")\n",
    "response_stream.print_response_stream()"
   ]
  },
  {
   "cell_type": "code",
   "execution_count": null,
   "metadata": {},
   "outputs": [],
   "source": []
  }
 ],
 "metadata": {
  "kernelspec": {
   "display_name": "llama_index",
   "language": "python",
   "name": "python3"
  },
  "language_info": {
   "codemirror_mode": {
    "name": "ipython",
    "version": 3
   },
   "file_extension": ".py",
   "mimetype": "text/x-python",
   "name": "python",
   "nbconvert_exporter": "python",
   "pygments_lexer": "ipython3",
   "version": "3.9.16"
  },
  "orig_nbformat": 4
 },
 "nbformat": 4,
 "nbformat_minor": 2
}
